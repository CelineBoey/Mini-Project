{
 "cells": [
  {
   "cell_type": "markdown",
   "id": "d6c0fe48",
   "metadata": {},
   "source": [
    "# Learning\n",
    "1. kNN classifier : how it works? Create data ans labels and apply knn to make prediction on unseen data.\n",
    "2.  ( Histogram of gradient)HOG is a way of extracting features from images.\n",
    "3. Demo on different problems: multiclass and binary problem."
   ]
  },
  {
   "cell_type": "markdown",
   "id": "03023490",
   "metadata": {},
   "source": [
    "# Setup"
   ]
  },
  {
   "cell_type": "code",
   "execution_count": 1,
   "id": "99814d73",
   "metadata": {},
   "outputs": [],
   "source": [
    "import sys\n",
    "assert sys.version_info >=(3,7)\n",
    "\n",
    "import cv2 as cv\n",
    "import numpy as np\n",
    "import os\n",
    "import matplotlib.pyplot as plt"
   ]
  },
  {
   "cell_type": "markdown",
   "id": "3e585ea3",
   "metadata": {},
   "source": [
    "# How kNN works"
   ]
  },
  {
   "cell_type": "code",
   "execution_count": 2,
   "id": "83417bcb",
   "metadata": {},
   "outputs": [
    {
     "name": "stdout",
     "output_type": "stream",
     "text": [
      "The prediction: [[1.]]\n",
      "The labels of neighbours: [[1. 1. 0.]]\n",
      "The squared distance: [[169. 452. 793.]]\n"
     ]
    },
    {
     "data": {
      "image/png": "[encoded data removed]",
      "text/plain": [
       "<Figure size 640x480 with 1 Axes>"
      ]
     },
     "metadata": {},
     "output_type": "display_data"
    }
   ],
   "source": [
    "np.random.seed(7)\n",
    "\n",
    "#generate (randomly bivariate sample from uniform distribution [0-99])\n",
    "train_data = np.random.randint(0, 100, size = (30, 2)).astype(np.float32)\n",
    "targets = np.random.randint(0, 2, size = (30, 1)).astype(np.float32)\n",
    "\n",
    "#subset the data based on the targets\n",
    "datA = train_data[targets.ravel()==0]\n",
    "plt.scatter(datA[:, 0], datA[:, 1],marker=\"^\", c=\"b\", s=60)\n",
    "\n",
    "datB = train_data[targets.ravel()==1]\n",
    "plt.scatter(datB[:, 0], datB[:, 1],marker=\"s\", c=\"r\", s=60)\n",
    "\n",
    "#sample a new data\n",
    "new_data = np.random.randint(0, 100, size = (1, 2)).astype(np.float32)\n",
    "plt.scatter(new_data[:, 0], new_data[:, 1],marker=\"o\", c=\"g\", s=60)\n",
    "\n",
    "# create a kNN object (OpenCV function)\n",
    "knn = cv.ml.KNearest_create()\n",
    "knn.train(train_data, cv.ml.ROW_SAMPLE, targets)\n",
    "ret, pred, label_neigh, sq_dist = knn.findNearest(new_data, 3)\n",
    "\n",
    "\n",
    "print(f\"The prediction: {pred}\")\n",
    "print(f\"The labels of neighbours: {label_neigh}\")\n",
    "print(f\"The squared distance: {sq_dist}\")\n",
    "\n",
    "plt.show()"
   ]
  },
  {
   "cell_type": "code",
   "execution_count": 3,
   "id": "067aa0d3",
   "metadata": {},
   "outputs": [
    {
     "name": "stdout",
     "output_type": "stream",
     "text": [
      "Requirement already satisfied: scikit-learn in c:\\users\\celin\\appdata\\local\\programs\\python\\python311\\lib\\site-packages (1.3.0)\n",
      "Requirement already satisfied: numpy>=1.17.3 in c:\\users\\celin\\appdata\\local\\programs\\python\\python311\\lib\\site-packages (from scikit-learn) (1.25.0)\n",
      "Requirement already satisfied: scipy>=1.5.0 in c:\\users\\celin\\appdata\\local\\programs\\python\\python311\\lib\\site-packages (from scikit-learn) (1.11.1)\n",
      "Requirement already satisfied: joblib>=1.1.1 in c:\\users\\celin\\appdata\\local\\programs\\python\\python311\\lib\\site-packages (from scikit-learn) (1.3.2)\n",
      "Requirement already satisfied: threadpoolctl>=2.0.0 in c:\\users\\celin\\appdata\\local\\programs\\python\\python311\\lib\\site-packages (from scikit-learn) (3.2.0)\n"
     ]
    },
    {
     "name": "stderr",
     "output_type": "stream",
     "text": [
      "\n",
      "[notice] A new release of pip is available: 23.1.2 -> 23.2.1\n",
      "[notice] To update, run: C:\\Users\\celin\\AppData\\Local\\Programs\\Python\\Python311\\python.exe -m pip install --upgrade pip\n"
     ]
    }
   ],
   "source": [
    "!pip install scikit-learn"
   ]
  },
  {
   "cell_type": "code",
   "execution_count": 4,
   "id": "4dfec17e",
   "metadata": {},
   "outputs": [],
   "source": [
    "from sklearn.neighbors import KNeighborsClassifier"
   ]
  },
  {
   "cell_type": "code",
   "execution_count": 5,
   "id": "f84fd7b0",
   "metadata": {},
   "outputs": [
    {
     "name": "stdout",
     "output_type": "stream",
     "text": [
      "The prediction: [1.]\n"
     ]
    }
   ],
   "source": [
    "knn = KNeighborsClassifier(n_neighbors = 3, n_jobs=-1)\n",
    "knn.fit(train_data, targets.flatten())\n",
    "print(f\"The prediction: {knn.predict(new_data)}\")"
   ]
  },
  {
   "cell_type": "code",
   "execution_count": 6,
   "id": "741e3f82",
   "metadata": {},
   "outputs": [
    {
     "data": {
      "text/plain": [
       "(array([[13.        , 21.26029163, 28.16025568]]),\n",
       " array([[11, 17, 28]], dtype=int64))"
      ]
     },
     "execution_count": 6,
     "metadata": {},
     "output_type": "execute_result"
    }
   ],
   "source": [
    "knn.kneighbors(new_data)"
   ]
  },
  {
   "cell_type": "code",
   "execution_count": 7,
   "id": "921eb1bb",
   "metadata": {},
   "outputs": [
    {
     "data": {
      "text/plain": [
       "array([[[1.],\n",
       "        [1.],\n",
       "        [0.]]], dtype=float32)"
      ]
     },
     "execution_count": 7,
     "metadata": {},
     "output_type": "execute_result"
    }
   ],
   "source": [
    "dist, idx_neigh = knn.kneighbors(new_data)\n",
    "\n",
    "targets[idx_neigh]"
   ]
  },
  {
   "cell_type": "markdown",
   "id": "855465ed",
   "metadata": {},
   "source": [
    "## fashion mnist data classification with kNN"
   ]
  },
  {
   "cell_type": "code",
   "execution_count": 8,
   "id": "c5eb7f79",
   "metadata": {},
   "outputs": [
    {
     "data": {
      "text/plain": [
       "['C:\\\\Users\\\\celin\\\\UCCC2513\\\\Week 10',\n",
       " 'C:\\\\Users\\\\celin\\\\AppData\\\\Local\\\\Programs\\\\Python\\\\Python311\\\\python311.zip',\n",
       " 'C:\\\\Users\\\\celin\\\\AppData\\\\Local\\\\Programs\\\\Python\\\\Python311\\\\DLLs',\n",
       " 'C:\\\\Users\\\\celin\\\\AppData\\\\Local\\\\Programs\\\\Python\\\\Python311\\\\Lib',\n",
       " 'C:\\\\Users\\\\celin\\\\AppData\\\\Local\\\\Programs\\\\Python\\\\Python311',\n",
       " '',\n",
       " 'C:\\\\Users\\\\celin\\\\AppData\\\\Local\\\\Programs\\\\Python\\\\Python311\\\\Lib\\\\site-packages',\n",
       " 'C:\\\\Users\\\\celin\\\\AppData\\\\Local\\\\Programs\\\\Python\\\\Python311\\\\Lib\\\\site-packages\\\\win32',\n",
       " 'C:\\\\Users\\\\celin\\\\AppData\\\\Local\\\\Programs\\\\Python\\\\Python311\\\\Lib\\\\site-packages\\\\win32\\\\lib',\n",
       " 'C:\\\\Users\\\\celin\\\\AppData\\\\Local\\\\Programs\\\\Python\\\\Python311\\\\Lib\\\\site-packages\\\\Pythonwin']"
      ]
     },
     "execution_count": 8,
     "metadata": {},
     "output_type": "execute_result"
    }
   ],
   "source": [
    "sys.path"
   ]
  },
  {
   "cell_type": "code",
   "execution_count": 9,
   "id": "f9707faf",
   "metadata": {},
   "outputs": [],
   "source": [
    "sys.path.insert(1, 'C:/Users/celin/UCCC2513/Week 10/fashion-mnist-master/utils')"
   ]
  },
  {
   "cell_type": "code",
   "execution_count": 10,
   "id": "3bb9a47d",
   "metadata": {},
   "outputs": [],
   "source": [
    "import mnist_reader\n",
    "\n",
    "X_train, y_train = mnist_reader.load_mnist('./fashion-mnist-master/fashion-mnist-master/data/fashion', kind=\"train\")\n",
    "X_test, y_test = mnist_reader.load_mnist('./fashion-mnist-master/fashion-mnist-master/data/fashion', kind=\"t10k\")"
   ]
  },
  {
   "cell_type": "code",
   "execution_count": 11,
   "id": "7bb709fa",
   "metadata": {},
   "outputs": [
    {
     "data": {
      "text/plain": [
       "(60000, 784)"
      ]
     },
     "execution_count": 11,
     "metadata": {},
     "output_type": "execute_result"
    }
   ],
   "source": [
    "X_train.shape # 28 * 28"
   ]
  },
  {
   "cell_type": "code",
   "execution_count": 12,
   "id": "61fefc19",
   "metadata": {},
   "outputs": [
    {
     "data": {
      "text/plain": [
       "(10000, 784)"
      ]
     },
     "execution_count": 12,
     "metadata": {},
     "output_type": "execute_result"
    }
   ],
   "source": [
    "X_test.shape"
   ]
  },
  {
   "cell_type": "code",
   "execution_count": 13,
   "id": "f636ef34",
   "metadata": {},
   "outputs": [
    {
     "data": {
      "text/plain": [
       "array([9, 0, 0, 3, 0, 2, 7, 2, 5, 5], dtype=uint8)"
      ]
     },
     "execution_count": 13,
     "metadata": {},
     "output_type": "execute_result"
    }
   ],
   "source": [
    "y_train[:10]"
   ]
  },
  {
   "cell_type": "code",
   "execution_count": 14,
   "id": "0bc45361",
   "metadata": {},
   "outputs": [],
   "source": [
    "class_labels = [\"t-shirt\", \"trouser\", \"pullover\", \"dress\", \"coat\",\"sandal\", \"shirt\", \"sneaker\", \"bag\", \"ankle boot\"]"
   ]
  },
  {
   "cell_type": "code",
   "execution_count": 15,
   "id": "cdd0e634",
   "metadata": {},
   "outputs": [
    {
     "data": {
      "text/plain": [
       "dtype('uint8')"
      ]
     },
     "execution_count": 15,
     "metadata": {},
     "output_type": "execute_result"
    }
   ],
   "source": [
    "X_train.dtype"
   ]
  },
  {
   "cell_type": "code",
   "execution_count": 16,
   "id": "65c34d6e",
   "metadata": {},
   "outputs": [
    {
     "data": {
      "image/png": "[encoded data removed]",
      "text/plain": [
       "<Figure size 1500x1500 with 25 Axes>"
      ]
     },
     "metadata": {},
     "output_type": "display_data"
    }
   ],
   "source": [
    "# Visualization\n",
    "plt.figure(figsize=(15, 15))\n",
    "\n",
    "for i in range(25):\n",
    "    plt.subplot(5, 5, i+1)\n",
    "    plt.imshow(X_train[i].reshape((28, 28)), cmap = plt.cm.gray)\n",
    "    plt.xticks([]), plt.yticks([])\n",
    "    plt.title(class_labels[y_train[i]])\n",
    "    \n",
    "plt.show()"
   ]
  },
  {
   "cell_type": "code",
   "execution_count": 17,
   "id": "7da70f30",
   "metadata": {},
   "outputs": [],
   "source": [
    "# preprocessing. bot necessary because the range has been standardized to (0-255)\n",
    "np.random.seed(100)\n",
    "shuffled_idx = np.random.permutation(len(X_train))\n",
    "n_sample = int(0.1*len(X_train))\n",
    "X_train_part = X_train[shuffled_idx[:n_sample]]\n",
    "y_train_part = y_train[shuffled_idx[:n_sample]]"
   ]
  },
  {
   "cell_type": "code",
   "execution_count": 18,
   "id": "b711f256",
   "metadata": {},
   "outputs": [
    {
     "data": {
      "text/plain": [
       "(6000, 784)"
      ]
     },
     "execution_count": 18,
     "metadata": {},
     "output_type": "execute_result"
    }
   ],
   "source": [
    "X_train_part.shape"
   ]
  },
  {
   "cell_type": "code",
   "execution_count": 19,
   "id": "3ffc3c38",
   "metadata": {},
   "outputs": [],
   "source": [
    "from sklearn.model_selection import cross_val_score    #k-fold CV accuracy"
   ]
  },
  {
   "cell_type": "code",
   "execution_count": 20,
   "id": "cfc61b28",
   "metadata": {},
   "outputs": [
    {
     "data": {
      "image/png": "[encoded data removed]",
      "text/plain": [
       "<Figure size 640x480 with 1 Axes>"
      ]
     },
     "metadata": {},
     "output_type": "display_data"
    }
   ],
   "source": [
    "k_list = np.arange(1,21)\n",
    "\n",
    "mean_acc = []\n",
    "std_acc = []\n",
    "\n",
    "for k in k_list:\n",
    "    knn = KNeighborsClassifier(n_neighbors=k, n_jobs = -1)\n",
    "    scores = cross_val_score(knn, X_train_part, y_train_part)\n",
    "    mean_acc.append(scores.mean())\n",
    "    std_acc.append(scores.std())\n",
    "    \n",
    "plt.errorbar(k_list, mean_acc,std_acc, marker = \"s\", mec = \"g\", mfc = \"r\")\n",
    "plt.xlabel(\"Number of nearest neighnors\")\n",
    "plt.ylabel(\"CV accuracy\")\n",
    "plt.show()"
   ]
  },
  {
   "cell_type": "code",
   "execution_count": 21,
   "id": "b57acd53",
   "metadata": {},
   "outputs": [],
   "source": [
    "import time"
   ]
  },
  {
   "cell_type": "code",
   "execution_count": 22,
   "id": "857d2efe",
   "metadata": {},
   "outputs": [
    {
     "name": "stdout",
     "output_type": "stream",
     "text": [
      "The execution time of training and prediction:19.843s.\n"
     ]
    }
   ],
   "source": [
    "k_opt = k_list[np.argmax(mean_acc)]\n",
    "\n",
    "start = time.time()\n",
    "# retrain the knn with all the train data\n",
    "knn = KNeighborsClassifier(n_neighbors=k_opt, n_jobs=-1)\n",
    "knn.fit(X_train, y_train)\n",
    "pred = knn.predict(X_test)\n",
    "print(f\"The execution time of training and prediction:{(time.time() - start):.3f}s.\")"
   ]
  },
  {
   "cell_type": "code",
   "execution_count": 23,
   "id": "dbe5c02e",
   "metadata": {},
   "outputs": [],
   "source": [
    "from sklearn.metrics import classification_report, confusion_matrix, ConfusionMatrixDisplay"
   ]
  },
  {
   "cell_type": "code",
   "execution_count": 24,
   "id": "dbbcb927",
   "metadata": {},
   "outputs": [
    {
     "name": "stdout",
     "output_type": "stream",
     "text": [
      "              precision    recall  f1-score   support\n",
      "\n",
      "     t-shirt       0.75      0.89      0.81      1000\n",
      "     trouser       0.99      0.97      0.98      1000\n",
      "    pullover       0.71      0.83      0.76      1000\n",
      "       dress       0.90      0.87      0.89      1000\n",
      "        coat       0.80      0.74      0.77      1000\n",
      "      sandal       0.99      0.85      0.92      1000\n",
      "       shirt       0.68      0.55      0.60      1000\n",
      "     sneaker       0.88      0.97      0.93      1000\n",
      "         bag       0.98      0.95      0.97      1000\n",
      "  ankle boot       0.92      0.96      0.94      1000\n",
      "\n",
      "    accuracy                           0.86     10000\n",
      "   macro avg       0.86      0.86      0.86     10000\n",
      "weighted avg       0.86      0.86      0.86     10000\n",
      "\n"
     ]
    }
   ],
   "source": [
    "print(classification_report(y_test, pred, target_names= class_labels))"
   ]
  },
  {
   "cell_type": "code",
   "execution_count": 25,
   "id": "4eed0d0e",
   "metadata": {},
   "outputs": [
    {
     "data": {
      "image/png": "[encoded data removed]",
      "text/plain": [
       "<Figure size 640x480 with 2 Axes>"
      ]
     },
     "metadata": {},
     "output_type": "display_data"
    }
   ],
   "source": [
    "conf_mat = confusion_matrix(y_test, pred)\n",
    "conf_mat_display = ConfusionMatrixDisplay(confusion_matrix=conf_mat, display_labels=class_labels)\n",
    "\n",
    "conf_mat_display.plot()\n",
    "plt.xticks(rotation = 45)\n",
    "plt.show()"
   ]
  },
  {
   "cell_type": "code",
   "execution_count": 26,
   "id": "66398231",
   "metadata": {},
   "outputs": [
    {
     "name": "stdout",
     "output_type": "stream",
     "text": [
      "1000\n"
     ]
    }
   ],
   "source": [
    "#each class will sum up to 1000\n",
    "#shirt class (row prespective)\n",
    "res = 198 + 143 + 79 + 545 + 11 + 2 + 22\n",
    "print(res)"
   ]
  },
  {
   "cell_type": "code",
   "execution_count": 27,
   "id": "c4991199",
   "metadata": {},
   "outputs": [
    {
     "data": {
      "text/plain": [
       "804"
      ]
     },
     "execution_count": 27,
     "metadata": {},
     "output_type": "execute_result"
    }
   ],
   "source": [
    "conf_mat[:, -4].sum()  # 804 is shirt correct: 545/804 = 67.8% (precision)\n",
    "\n",
    "# recall : True Positive (correctness of the machine learning)\n",
    "# precision :  Correctly predicted by the machine"
   ]
  },
  {
   "cell_type": "markdown",
   "id": "705042e2",
   "metadata": {},
   "source": [
    "## cats vs dogs classification"
   ]
  },
  {
   "cell_type": "code",
   "execution_count": 28,
   "id": "df44619d",
   "metadata": {},
   "outputs": [],
   "source": [
    "# create classes that can preprocess and load the data\n",
    "class dataPreprocessor:\n",
    "    def __init__(self, width, height, inter=cv.INTER_AREA):\n",
    "        self.width = width\n",
    "        self.height = height\n",
    "        self.inter = inter\n",
    "        \n",
    "    def process(self, img):\n",
    "        return cv.resize(img, (self.width, self.height), interpolation=self.inter)"
   ]
  },
  {
   "cell_type": "code",
   "execution_count": 29,
   "id": "ea42f03c",
   "metadata": {},
   "outputs": [],
   "source": [
    "class dataLoader:\n",
    "    def __init__(self, preprocessor=None):\n",
    "        self.preprocessor = preprocessor\n",
    "        \n",
    "        # need to load thru all existing preprocessor\n",
    "        if self.preprocessor is None:\n",
    "            self.preprocessor = []\n",
    "            \n",
    "    def load(self, imgPath):\n",
    "        data = []\n",
    "        labels = []\n",
    "        \n",
    "        for imgName in os.listdir(imgPath):\n",
    "            filePath = os.path.join(imgPath, imgName)\n",
    "            img = cv.imread(cv.samples.findFile(filePath))\n",
    "            label = imgName.split(\".\")[0]\n",
    "            \n",
    "            if self.preprocessor is not None:\n",
    "                for p in self.preprocessor:\n",
    "                    img = p.process(img)\n",
    "                    \n",
    "            data.append(img)\n",
    "            labels.append(label)\n",
    "            \n",
    "        return np.array(data), np.array(labels)"
   ]
  },
  {
   "cell_type": "code",
   "execution_count": 30,
   "id": "04c07515",
   "metadata": {},
   "outputs": [],
   "source": [
    "dataPrep = dataPreprocessor(64, 64)\n",
    "dataLoad = dataLoader(preprocessor=[dataPrep])\n",
    "X, y = dataLoad.load(\"./cats_vs_dogs_small\")"
   ]
  },
  {
   "cell_type": "code",
   "execution_count": 31,
   "id": "9b1bc0a4",
   "metadata": {},
   "outputs": [
    {
     "data": {
      "text/plain": [
       "(3000, 64, 64, 3)"
      ]
     },
     "execution_count": 31,
     "metadata": {},
     "output_type": "execute_result"
    }
   ],
   "source": [
    "X.shape"
   ]
  },
  {
   "cell_type": "code",
   "execution_count": 32,
   "id": "e115425f",
   "metadata": {},
   "outputs": [
    {
     "data": {
      "text/plain": [
       "['cat.0.jpg',\n",
       " 'cat.1.jpg',\n",
       " 'cat.10.jpg',\n",
       " 'cat.100.jpg',\n",
       " 'cat.1000.jpg',\n",
       " 'cat.1001.jpg',\n",
       " 'cat.1002.jpg',\n",
       " 'cat.1003.jpg',\n",
       " 'cat.1004.jpg',\n",
       " 'cat.1005.jpg',\n",
       " 'cat.1006.jpg',\n",
       " 'cat.1007.jpg',\n",
       " 'cat.1008.jpg',\n",
       " 'cat.1009.jpg',\n",
       " 'cat.101.jpg',\n",
       " 'cat.1010.jpg',\n",
       " 'cat.1011.jpg',\n",
       " 'cat.1012.jpg',\n",
       " 'cat.1013.jpg',\n",
       " 'cat.1014.jpg',\n",
       " 'cat.1015.jpg',\n",
       " 'cat.1016.jpg',\n",
       " 'cat.1017.jpg',\n",
       " 'cat.1018.jpg',\n",
       " 'cat.1019.jpg',\n",
       " 'cat.102.jpg',\n",
       " 'cat.1020.jpg',\n",
       " 'cat.1021.jpg',\n",
       " 'cat.1022.jpg',\n",
       " 'cat.1023.jpg',\n",
       " 'cat.1024.jpg',\n",
       " 'cat.1025.jpg',\n",
       " 'cat.1026.jpg',\n",
       " 'cat.1027.jpg',\n",
       " 'cat.1028.jpg',\n",
       " 'cat.1029.jpg',\n",
       " 'cat.103.jpg',\n",
       " 'cat.1030.jpg',\n",
       " 'cat.1031.jpg',\n",
       " 'cat.1032.jpg',\n",
       " 'cat.1033.jpg',\n",
       " 'cat.1034.jpg',\n",
       " 'cat.1035.jpg',\n",
       " 'cat.1036.jpg',\n",
       " 'cat.1037.jpg',\n",
       " 'cat.1038.jpg',\n",
       " 'cat.1039.jpg',\n",
       " 'cat.104.jpg',\n",
       " 'cat.1040.jpg',\n",
       " 'cat.1041.jpg',\n",
       " 'cat.1042.jpg',\n",
       " 'cat.1043.jpg',\n",
       " 'cat.1044.jpg',\n",
       " 'cat.1045.jpg',\n",
       " 'cat.1046.jpg',\n",
       " 'cat.1047.jpg',\n",
       " 'cat.1048.jpg',\n",
       " 'cat.1049.jpg',\n",
       " 'cat.105.jpg',\n",
       " 'cat.1050.jpg',\n",
       " 'cat.1051.jpg',\n",
       " 'cat.1052.jpg',\n",
       " 'cat.1053.jpg',\n",
       " 'cat.1054.jpg',\n",
       " 'cat.1055.jpg',\n",
       " 'cat.1056.jpg',\n",
       " 'cat.1057.jpg',\n",
       " 'cat.1058.jpg',\n",
       " 'cat.1059.jpg',\n",
       " 'cat.106.jpg',\n",
       " 'cat.1060.jpg',\n",
       " 'cat.1061.jpg',\n",
       " 'cat.1062.jpg',\n",
       " 'cat.1063.jpg',\n",
       " 'cat.1064.jpg',\n",
       " 'cat.1065.jpg',\n",
       " 'cat.1066.jpg',\n",
       " 'cat.1067.jpg',\n",
       " 'cat.1068.jpg',\n",
       " 'cat.1069.jpg',\n",
       " 'cat.107.jpg',\n",
       " 'cat.1070.jpg',\n",
       " 'cat.1071.jpg',\n",
       " 'cat.1072.jpg',\n",
       " 'cat.1073.jpg',\n",
       " 'cat.1074.jpg',\n",
       " 'cat.1075.jpg',\n",
       " 'cat.1076.jpg',\n",
       " 'cat.1077.jpg',\n",
       " 'cat.1078.jpg',\n",
       " 'cat.1079.jpg',\n",
       " 'cat.108.jpg',\n",
       " 'cat.1080.jpg',\n",
       " 'cat.1081.jpg',\n",
       " 'cat.1082.jpg',\n",
       " 'cat.1083.jpg',\n",
       " 'cat.1084.jpg',\n",
       " 'cat.1085.jpg',\n",
       " 'cat.1086.jpg',\n",
       " 'cat.1087.jpg',\n",
       " 'cat.1088.jpg',\n",
       " 'cat.1089.jpg',\n",
       " 'cat.109.jpg',\n",
       " 'cat.1090.jpg',\n",
       " 'cat.1091.jpg',\n",
       " 'cat.1092.jpg',\n",
       " 'cat.1093.jpg',\n",
       " 'cat.1094.jpg',\n",
       " 'cat.1095.jpg',\n",
       " 'cat.1096.jpg',\n",
       " 'cat.1097.jpg',\n",
       " 'cat.1098.jpg',\n",
       " 'cat.1099.jpg',\n",
       " 'cat.11.jpg',\n",
       " 'cat.110.jpg',\n",
       " 'cat.1100.jpg',\n",
       " 'cat.1101.jpg',\n",
       " 'cat.1102.jpg',\n",
       " 'cat.1103.jpg',\n",
       " 'cat.1104.jpg',\n",
       " 'cat.1105.jpg',\n",
       " 'cat.1106.jpg',\n",
       " 'cat.1107.jpg',\n",
       " 'cat.1108.jpg',\n",
       " 'cat.1109.jpg',\n",
       " 'cat.111.jpg',\n",
       " 'cat.1110.jpg',\n",
       " 'cat.1111.jpg',\n",
       " 'cat.1112.jpg',\n",
       " 'cat.1113.jpg',\n",
       " 'cat.1114.jpg',\n",
       " 'cat.1115.jpg',\n",
       " 'cat.1116.jpg',\n",
       " 'cat.1117.jpg',\n",
       " 'cat.1118.jpg',\n",
       " 'cat.1119.jpg',\n",
       " 'cat.112.jpg',\n",
       " 'cat.1120.jpg',\n",
       " 'cat.1121.jpg',\n",
       " 'cat.1122.jpg',\n",
       " 'cat.1123.jpg',\n",
       " 'cat.1124.jpg',\n",
       " 'cat.1125.jpg',\n",
       " 'cat.1126.jpg',\n",
       " 'cat.1127.jpg',\n",
       " 'cat.1128.jpg',\n",
       " 'cat.1129.jpg',\n",
       " 'cat.113.jpg',\n",
       " 'cat.1130.jpg',\n",
       " 'cat.1131.jpg',\n",
       " 'cat.1132.jpg',\n",
       " 'cat.1133.jpg',\n",
       " 'cat.1134.jpg',\n",
       " 'cat.1135.jpg',\n",
       " 'cat.1136.jpg',\n",
       " 'cat.1137.jpg',\n",
       " 'cat.1138.jpg',\n",
       " 'cat.1139.jpg',\n",
       " 'cat.114.jpg',\n",
       " 'cat.1140.jpg',\n",
       " 'cat.1141.jpg',\n",
       " 'cat.1142.jpg',\n",
       " 'cat.1143.jpg',\n",
       " 'cat.1144.jpg',\n",
       " 'cat.1145.jpg',\n",
       " 'cat.1146.jpg',\n",
       " 'cat.1147.jpg',\n",
       " 'cat.1148.jpg',\n",
       " 'cat.1149.jpg',\n",
       " 'cat.115.jpg',\n",
       " 'cat.1150.jpg',\n",
       " 'cat.1151.jpg',\n",
       " 'cat.1152.jpg',\n",
       " 'cat.1153.jpg',\n",
       " 'cat.1154.jpg',\n",
       " 'cat.1155.jpg',\n",
       " 'cat.1156.jpg',\n",
       " 'cat.1157.jpg',\n",
       " 'cat.1158.jpg',\n",
       " 'cat.1159.jpg',\n",
       " 'cat.116.jpg',\n",
       " 'cat.1160.jpg',\n",
       " 'cat.1161.jpg',\n",
       " 'cat.1162.jpg',\n",
       " 'cat.1163.jpg',\n",
       " 'cat.1164.jpg',\n",
       " 'cat.1165.jpg',\n",
       " 'cat.1166.jpg',\n",
       " 'cat.1167.jpg',\n",
       " 'cat.1168.jpg',\n",
       " 'cat.1169.jpg',\n",
       " 'cat.117.jpg',\n",
       " 'cat.1170.jpg',\n",
       " 'cat.1171.jpg',\n",
       " 'cat.1172.jpg',\n",
       " 'cat.1173.jpg',\n",
       " 'cat.1174.jpg',\n",
       " 'cat.1175.jpg',\n",
       " 'cat.1176.jpg',\n",
       " 'cat.1177.jpg',\n",
       " 'cat.1178.jpg',\n",
       " 'cat.1179.jpg',\n",
       " 'cat.118.jpg',\n",
       " 'cat.1180.jpg',\n",
       " 'cat.1181.jpg',\n",
       " 'cat.1182.jpg',\n",
       " 'cat.1183.jpg',\n",
       " 'cat.1184.jpg',\n",
       " 'cat.1185.jpg',\n",
       " 'cat.1186.jpg',\n",
       " 'cat.1187.jpg',\n",
       " 'cat.1188.jpg',\n",
       " 'cat.1189.jpg',\n",
       " 'cat.119.jpg',\n",
       " 'cat.1190.jpg',\n",
       " 'cat.1191.jpg',\n",
       " 'cat.1192.jpg',\n",
       " 'cat.1193.jpg',\n",
       " 'cat.1194.jpg',\n",
       " 'cat.1195.jpg',\n",
       " 'cat.1196.jpg',\n",
       " 'cat.1197.jpg',\n",
       " 'cat.1198.jpg',\n",
       " 'cat.1199.jpg',\n",
       " 'cat.12.jpg',\n",
       " 'cat.120.jpg',\n",
       " 'cat.1200.jpg',\n",
       " 'cat.1201.jpg',\n",
       " 'cat.1202.jpg',\n",
       " 'cat.1203.jpg',\n",
       " 'cat.1204.jpg',\n",
       " 'cat.1205.jpg',\n",
       " 'cat.1206.jpg',\n",
       " 'cat.1207.jpg',\n",
       " 'cat.1208.jpg',\n",
       " 'cat.1209.jpg',\n",
       " 'cat.121.jpg',\n",
       " 'cat.1210.jpg',\n",
       " 'cat.1211.jpg',\n",
       " 'cat.1212.jpg',\n",
       " 'cat.1213.jpg',\n",
       " 'cat.1214.jpg',\n",
       " 'cat.1215.jpg',\n",
       " 'cat.1216.jpg',\n",
       " 'cat.1217.jpg',\n",
       " 'cat.1218.jpg',\n",
       " 'cat.1219.jpg',\n",
       " 'cat.122.jpg',\n",
       " 'cat.1220.jpg',\n",
       " 'cat.1221.jpg',\n",
       " 'cat.1222.jpg',\n",
       " 'cat.1223.jpg',\n",
       " 'cat.1224.jpg',\n",
       " 'cat.1225.jpg',\n",
       " 'cat.1226.jpg',\n",
       " 'cat.1227.jpg',\n",
       " 'cat.1228.jpg',\n",
       " 'cat.1229.jpg',\n",
       " 'cat.123.jpg',\n",
       " 'cat.1230.jpg',\n",
       " 'cat.1231.jpg',\n",
       " 'cat.1232.jpg',\n",
       " 'cat.1233.jpg',\n",
       " 'cat.1234.jpg',\n",
       " 'cat.1235.jpg',\n",
       " 'cat.1236.jpg',\n",
       " 'cat.1237.jpg',\n",
       " 'cat.1238.jpg',\n",
       " 'cat.1239.jpg',\n",
       " 'cat.124.jpg',\n",
       " 'cat.1240.jpg',\n",
       " 'cat.1241.jpg',\n",
       " 'cat.1242.jpg',\n",
       " 'cat.1243.jpg',\n",
       " 'cat.1244.jpg',\n",
       " 'cat.1245.jpg',\n",
       " 'cat.1246.jpg',\n",
       " 'cat.1247.jpg',\n",
       " 'cat.1248.jpg',\n",
       " 'cat.1249.jpg',\n",
       " 'cat.125.jpg',\n",
       " 'cat.1250.jpg',\n",
       " 'cat.1251.jpg',\n",
       " 'cat.1252.jpg',\n",
       " 'cat.1253.jpg',\n",
       " 'cat.1254.jpg',\n",
       " 'cat.1255.jpg',\n",
       " 'cat.1256.jpg',\n",
       " 'cat.1257.jpg',\n",
       " 'cat.1258.jpg',\n",
       " 'cat.1259.jpg',\n",
       " 'cat.126.jpg',\n",
       " 'cat.1260.jpg',\n",
       " 'cat.1261.jpg',\n",
       " 'cat.1262.jpg',\n",
       " 'cat.1263.jpg',\n",
       " 'cat.1264.jpg',\n",
       " 'cat.1265.jpg',\n",
       " 'cat.1266.jpg',\n",
       " 'cat.1267.jpg',\n",
       " 'cat.1268.jpg',\n",
       " 'cat.1269.jpg',\n",
       " 'cat.127.jpg',\n",
       " 'cat.1270.jpg',\n",
       " 'cat.1271.jpg',\n",
       " 'cat.1272.jpg',\n",
       " 'cat.1273.jpg',\n",
       " 'cat.1274.jpg',\n",
       " 'cat.1275.jpg',\n",
       " 'cat.1276.jpg',\n",
       " 'cat.1277.jpg',\n",
       " 'cat.1278.jpg',\n",
       " 'cat.1279.jpg',\n",
       " 'cat.128.jpg',\n",
       " 'cat.1280.jpg',\n",
       " 'cat.1281.jpg',\n",
       " 'cat.1282.jpg',\n",
       " 'cat.1283.jpg',\n",
       " 'cat.1284.jpg',\n",
       " 'cat.1285.jpg',\n",
       " 'cat.1286.jpg',\n",
       " 'cat.1287.jpg',\n",
       " 'cat.1288.jpg',\n",
       " 'cat.1289.jpg',\n",
       " 'cat.129.jpg',\n",
       " 'cat.1290.jpg',\n",
       " 'cat.1291.jpg',\n",
       " 'cat.1292.jpg',\n",
       " 'cat.1293.jpg',\n",
       " 'cat.1294.jpg',\n",
       " 'cat.1295.jpg',\n",
       " 'cat.1296.jpg',\n",
       " 'cat.1297.jpg',\n",
       " 'cat.1298.jpg',\n",
       " 'cat.1299.jpg',\n",
       " 'cat.13.jpg',\n",
       " 'cat.130.jpg',\n",
       " 'cat.1300.jpg',\n",
       " 'cat.1301.jpg',\n",
       " 'cat.1302.jpg',\n",
       " 'cat.1303.jpg',\n",
       " 'cat.1304.jpg',\n",
       " 'cat.1305.jpg',\n",
       " 'cat.1306.jpg',\n",
       " 'cat.1307.jpg',\n",
       " 'cat.1308.jpg',\n",
       " 'cat.1309.jpg',\n",
       " 'cat.131.jpg',\n",
       " 'cat.1310.jpg',\n",
       " 'cat.1311.jpg',\n",
       " 'cat.1312.jpg',\n",
       " 'cat.1313.jpg',\n",
       " 'cat.1314.jpg',\n",
       " 'cat.1315.jpg',\n",
       " 'cat.1316.jpg',\n",
       " 'cat.1317.jpg',\n",
       " 'cat.1318.jpg',\n",
       " 'cat.1319.jpg',\n",
       " 'cat.132.jpg',\n",
       " 'cat.1320.jpg',\n",
       " 'cat.1321.jpg',\n",
       " 'cat.1322.jpg',\n",
       " 'cat.1323.jpg',\n",
       " 'cat.1324.jpg',\n",
       " 'cat.1325.jpg',\n",
       " 'cat.1326.jpg',\n",
       " 'cat.1327.jpg',\n",
       " 'cat.1328.jpg',\n",
       " 'cat.1329.jpg',\n",
       " 'cat.133.jpg',\n",
       " 'cat.1330.jpg',\n",
       " 'cat.1331.jpg',\n",
       " 'cat.1332.jpg',\n",
       " 'cat.1333.jpg',\n",
       " 'cat.1334.jpg',\n",
       " 'cat.1335.jpg',\n",
       " 'cat.1336.jpg',\n",
       " 'cat.1337.jpg',\n",
       " 'cat.1338.jpg',\n",
       " 'cat.1339.jpg',\n",
       " 'cat.134.jpg',\n",
       " 'cat.1340.jpg',\n",
       " 'cat.1341.jpg',\n",
       " 'cat.1342.jpg',\n",
       " 'cat.1343.jpg',\n",
       " 'cat.1344.jpg',\n",
       " 'cat.1345.jpg',\n",
       " 'cat.1346.jpg',\n",
       " 'cat.1347.jpg',\n",
       " 'cat.1348.jpg',\n",
       " 'cat.1349.jpg',\n",
       " 'cat.135.jpg',\n",
       " 'cat.1350.jpg',\n",
       " 'cat.1351.jpg',\n",
       " 'cat.1352.jpg',\n",
       " 'cat.1353.jpg',\n",
       " 'cat.1354.jpg',\n",
       " 'cat.1355.jpg',\n",
       " 'cat.1356.jpg',\n",
       " 'cat.1357.jpg',\n",
       " 'cat.1358.jpg',\n",
       " 'cat.1359.jpg',\n",
       " 'cat.136.jpg',\n",
       " 'cat.1360.jpg',\n",
       " 'cat.1361.jpg',\n",
       " 'cat.1362.jpg',\n",
       " 'cat.1363.jpg',\n",
       " 'cat.1364.jpg',\n",
       " 'cat.1365.jpg',\n",
       " 'cat.1366.jpg',\n",
       " 'cat.1367.jpg',\n",
       " 'cat.1368.jpg',\n",
       " 'cat.1369.jpg',\n",
       " 'cat.137.jpg',\n",
       " 'cat.1370.jpg',\n",
       " 'cat.1371.jpg',\n",
       " 'cat.1372.jpg',\n",
       " 'cat.1373.jpg',\n",
       " 'cat.1374.jpg',\n",
       " 'cat.1375.jpg',\n",
       " 'cat.1376.jpg',\n",
       " 'cat.1377.jpg',\n",
       " 'cat.1378.jpg',\n",
       " 'cat.1379.jpg',\n",
       " 'cat.138.jpg',\n",
       " 'cat.1380.jpg',\n",
       " 'cat.1381.jpg',\n",
       " 'cat.1382.jpg',\n",
       " 'cat.1383.jpg',\n",
       " 'cat.1384.jpg',\n",
       " 'cat.1385.jpg',\n",
       " 'cat.1386.jpg',\n",
       " 'cat.1387.jpg',\n",
       " 'cat.1388.jpg',\n",
       " 'cat.1389.jpg',\n",
       " 'cat.139.jpg',\n",
       " 'cat.1390.jpg',\n",
       " 'cat.1391.jpg',\n",
       " 'cat.1392.jpg',\n",
       " 'cat.1393.jpg',\n",
       " 'cat.1394.jpg',\n",
       " 'cat.1395.jpg',\n",
       " 'cat.1396.jpg',\n",
       " 'cat.1397.jpg',\n",
       " 'cat.1398.jpg',\n",
       " 'cat.1399.jpg',\n",
       " 'cat.14.jpg',\n",
       " 'cat.140.jpg',\n",
       " 'cat.1400.jpg',\n",
       " 'cat.1401.jpg',\n",
       " 'cat.1402.jpg',\n",
       " 'cat.1403.jpg',\n",
       " 'cat.1404.jpg',\n",
       " 'cat.1405.jpg',\n",
       " 'cat.1406.jpg',\n",
       " 'cat.1407.jpg',\n",
       " 'cat.1408.jpg',\n",
       " 'cat.1409.jpg',\n",
       " 'cat.141.jpg',\n",
       " 'cat.1410.jpg',\n",
       " 'cat.1411.jpg',\n",
       " 'cat.1412.jpg',\n",
       " 'cat.1413.jpg',\n",
       " 'cat.1414.jpg',\n",
       " 'cat.1415.jpg',\n",
       " 'cat.1416.jpg',\n",
       " 'cat.1417.jpg',\n",
       " 'cat.1418.jpg',\n",
       " 'cat.1419.jpg',\n",
       " 'cat.142.jpg',\n",
       " 'cat.1420.jpg',\n",
       " 'cat.1421.jpg',\n",
       " 'cat.1422.jpg',\n",
       " 'cat.1423.jpg',\n",
       " 'cat.1424.jpg',\n",
       " 'cat.1425.jpg',\n",
       " 'cat.1426.jpg',\n",
       " 'cat.1427.jpg',\n",
       " 'cat.1428.jpg',\n",
       " 'cat.1429.jpg',\n",
       " 'cat.143.jpg',\n",
       " 'cat.1430.jpg',\n",
       " 'cat.1431.jpg',\n",
       " 'cat.1432.jpg',\n",
       " 'cat.1433.jpg',\n",
       " 'cat.1434.jpg',\n",
       " 'cat.1435.jpg',\n",
       " 'cat.1436.jpg',\n",
       " 'cat.1437.jpg',\n",
       " 'cat.1438.jpg',\n",
       " 'cat.1439.jpg',\n",
       " 'cat.144.jpg',\n",
       " 'cat.1440.jpg',\n",
       " 'cat.1441.jpg',\n",
       " 'cat.1442.jpg',\n",
       " 'cat.1443.jpg',\n",
       " 'cat.1444.jpg',\n",
       " 'cat.1445.jpg',\n",
       " 'cat.1446.jpg',\n",
       " 'cat.1447.jpg',\n",
       " 'cat.1448.jpg',\n",
       " 'cat.1449.jpg',\n",
       " 'cat.145.jpg',\n",
       " 'cat.1450.jpg',\n",
       " 'cat.1451.jpg',\n",
       " 'cat.1452.jpg',\n",
       " 'cat.1453.jpg',\n",
       " 'cat.1454.jpg',\n",
       " 'cat.1455.jpg',\n",
       " 'cat.1456.jpg',\n",
       " 'cat.1457.jpg',\n",
       " 'cat.1458.jpg',\n",
       " 'cat.1459.jpg',\n",
       " 'cat.146.jpg',\n",
       " 'cat.1460.jpg',\n",
       " 'cat.1461.jpg',\n",
       " 'cat.1462.jpg',\n",
       " 'cat.1463.jpg',\n",
       " 'cat.1464.jpg',\n",
       " 'cat.1465.jpg',\n",
       " 'cat.1466.jpg',\n",
       " 'cat.1467.jpg',\n",
       " 'cat.1468.jpg',\n",
       " 'cat.1469.jpg',\n",
       " 'cat.147.jpg',\n",
       " 'cat.1470.jpg',\n",
       " 'cat.1471.jpg',\n",
       " 'cat.1472.jpg',\n",
       " 'cat.1473.jpg',\n",
       " 'cat.1474.jpg',\n",
       " 'cat.1475.jpg',\n",
       " 'cat.1476.jpg',\n",
       " 'cat.1477.jpg',\n",
       " 'cat.1478.jpg',\n",
       " 'cat.1479.jpg',\n",
       " 'cat.148.jpg',\n",
       " 'cat.1480.jpg',\n",
       " 'cat.1481.jpg',\n",
       " 'cat.1482.jpg',\n",
       " 'cat.1483.jpg',\n",
       " 'cat.1484.jpg',\n",
       " 'cat.1485.jpg',\n",
       " 'cat.1486.jpg',\n",
       " 'cat.1487.jpg',\n",
       " 'cat.1488.jpg',\n",
       " 'cat.1489.jpg',\n",
       " 'cat.149.jpg',\n",
       " 'cat.1490.jpg',\n",
       " 'cat.1491.jpg',\n",
       " 'cat.1492.jpg',\n",
       " 'cat.1493.jpg',\n",
       " 'cat.1494.jpg',\n",
       " 'cat.1495.jpg',\n",
       " 'cat.1496.jpg',\n",
       " 'cat.1497.jpg',\n",
       " 'cat.1498.jpg',\n",
       " 'cat.1499.jpg',\n",
       " 'cat.15.jpg',\n",
       " 'cat.150.jpg',\n",
       " 'cat.151.jpg',\n",
       " 'cat.152.jpg',\n",
       " 'cat.153.jpg',\n",
       " 'cat.154.jpg',\n",
       " 'cat.155.jpg',\n",
       " 'cat.156.jpg',\n",
       " 'cat.157.jpg',\n",
       " 'cat.158.jpg',\n",
       " 'cat.159.jpg',\n",
       " 'cat.16.jpg',\n",
       " 'cat.160.jpg',\n",
       " 'cat.161.jpg',\n",
       " 'cat.162.jpg',\n",
       " 'cat.163.jpg',\n",
       " 'cat.164.jpg',\n",
       " 'cat.165.jpg',\n",
       " 'cat.166.jpg',\n",
       " 'cat.167.jpg',\n",
       " 'cat.168.jpg',\n",
       " 'cat.169.jpg',\n",
       " 'cat.17.jpg',\n",
       " 'cat.170.jpg',\n",
       " 'cat.171.jpg',\n",
       " 'cat.172.jpg',\n",
       " 'cat.173.jpg',\n",
       " 'cat.174.jpg',\n",
       " 'cat.175.jpg',\n",
       " 'cat.176.jpg',\n",
       " 'cat.177.jpg',\n",
       " 'cat.178.jpg',\n",
       " 'cat.179.jpg',\n",
       " 'cat.18.jpg',\n",
       " 'cat.180.jpg',\n",
       " 'cat.181.jpg',\n",
       " 'cat.182.jpg',\n",
       " 'cat.183.jpg',\n",
       " 'cat.184.jpg',\n",
       " 'cat.185.jpg',\n",
       " 'cat.186.jpg',\n",
       " 'cat.187.jpg',\n",
       " 'cat.188.jpg',\n",
       " 'cat.189.jpg',\n",
       " 'cat.19.jpg',\n",
       " 'cat.190.jpg',\n",
       " 'cat.191.jpg',\n",
       " 'cat.192.jpg',\n",
       " 'cat.193.jpg',\n",
       " 'cat.194.jpg',\n",
       " 'cat.195.jpg',\n",
       " 'cat.196.jpg',\n",
       " 'cat.197.jpg',\n",
       " 'cat.198.jpg',\n",
       " 'cat.199.jpg',\n",
       " 'cat.2.jpg',\n",
       " 'cat.20.jpg',\n",
       " 'cat.200.jpg',\n",
       " 'cat.201.jpg',\n",
       " 'cat.202.jpg',\n",
       " 'cat.203.jpg',\n",
       " 'cat.204.jpg',\n",
       " 'cat.205.jpg',\n",
       " 'cat.206.jpg',\n",
       " 'cat.207.jpg',\n",
       " 'cat.208.jpg',\n",
       " 'cat.209.jpg',\n",
       " 'cat.21.jpg',\n",
       " 'cat.210.jpg',\n",
       " 'cat.211.jpg',\n",
       " 'cat.212.jpg',\n",
       " 'cat.213.jpg',\n",
       " 'cat.214.jpg',\n",
       " 'cat.215.jpg',\n",
       " 'cat.216.jpg',\n",
       " 'cat.217.jpg',\n",
       " 'cat.218.jpg',\n",
       " 'cat.219.jpg',\n",
       " 'cat.22.jpg',\n",
       " 'cat.220.jpg',\n",
       " 'cat.221.jpg',\n",
       " 'cat.222.jpg',\n",
       " 'cat.223.jpg',\n",
       " 'cat.224.jpg',\n",
       " 'cat.225.jpg',\n",
       " 'cat.226.jpg',\n",
       " 'cat.227.jpg',\n",
       " 'cat.228.jpg',\n",
       " 'cat.229.jpg',\n",
       " 'cat.23.jpg',\n",
       " 'cat.230.jpg',\n",
       " 'cat.231.jpg',\n",
       " 'cat.232.jpg',\n",
       " 'cat.233.jpg',\n",
       " 'cat.234.jpg',\n",
       " 'cat.235.jpg',\n",
       " 'cat.236.jpg',\n",
       " 'cat.237.jpg',\n",
       " 'cat.238.jpg',\n",
       " 'cat.239.jpg',\n",
       " 'cat.24.jpg',\n",
       " 'cat.240.jpg',\n",
       " 'cat.241.jpg',\n",
       " 'cat.242.jpg',\n",
       " 'cat.243.jpg',\n",
       " 'cat.244.jpg',\n",
       " 'cat.245.jpg',\n",
       " 'cat.246.jpg',\n",
       " 'cat.247.jpg',\n",
       " 'cat.248.jpg',\n",
       " 'cat.249.jpg',\n",
       " 'cat.25.jpg',\n",
       " 'cat.250.jpg',\n",
       " 'cat.251.jpg',\n",
       " 'cat.252.jpg',\n",
       " 'cat.253.jpg',\n",
       " 'cat.254.jpg',\n",
       " 'cat.255.jpg',\n",
       " 'cat.256.jpg',\n",
       " 'cat.257.jpg',\n",
       " 'cat.258.jpg',\n",
       " 'cat.259.jpg',\n",
       " 'cat.26.jpg',\n",
       " 'cat.260.jpg',\n",
       " 'cat.261.jpg',\n",
       " 'cat.262.jpg',\n",
       " 'cat.263.jpg',\n",
       " 'cat.264.jpg',\n",
       " 'cat.265.jpg',\n",
       " 'cat.266.jpg',\n",
       " 'cat.267.jpg',\n",
       " 'cat.268.jpg',\n",
       " 'cat.269.jpg',\n",
       " 'cat.27.jpg',\n",
       " 'cat.270.jpg',\n",
       " 'cat.271.jpg',\n",
       " 'cat.272.jpg',\n",
       " 'cat.273.jpg',\n",
       " 'cat.274.jpg',\n",
       " 'cat.275.jpg',\n",
       " 'cat.276.jpg',\n",
       " 'cat.277.jpg',\n",
       " 'cat.278.jpg',\n",
       " 'cat.279.jpg',\n",
       " 'cat.28.jpg',\n",
       " 'cat.280.jpg',\n",
       " 'cat.281.jpg',\n",
       " 'cat.282.jpg',\n",
       " 'cat.283.jpg',\n",
       " 'cat.284.jpg',\n",
       " 'cat.285.jpg',\n",
       " 'cat.286.jpg',\n",
       " 'cat.287.jpg',\n",
       " 'cat.288.jpg',\n",
       " 'cat.289.jpg',\n",
       " 'cat.29.jpg',\n",
       " 'cat.290.jpg',\n",
       " 'cat.291.jpg',\n",
       " 'cat.292.jpg',\n",
       " 'cat.293.jpg',\n",
       " 'cat.294.jpg',\n",
       " 'cat.295.jpg',\n",
       " 'cat.296.jpg',\n",
       " 'cat.297.jpg',\n",
       " 'cat.298.jpg',\n",
       " 'cat.299.jpg',\n",
       " 'cat.3.jpg',\n",
       " 'cat.30.jpg',\n",
       " 'cat.300.jpg',\n",
       " 'cat.301.jpg',\n",
       " 'cat.302.jpg',\n",
       " 'cat.303.jpg',\n",
       " 'cat.304.jpg',\n",
       " 'cat.305.jpg',\n",
       " 'cat.306.jpg',\n",
       " 'cat.307.jpg',\n",
       " 'cat.308.jpg',\n",
       " 'cat.309.jpg',\n",
       " 'cat.31.jpg',\n",
       " 'cat.310.jpg',\n",
       " 'cat.311.jpg',\n",
       " 'cat.312.jpg',\n",
       " 'cat.313.jpg',\n",
       " 'cat.314.jpg',\n",
       " 'cat.315.jpg',\n",
       " 'cat.316.jpg',\n",
       " 'cat.317.jpg',\n",
       " 'cat.318.jpg',\n",
       " 'cat.319.jpg',\n",
       " 'cat.32.jpg',\n",
       " 'cat.320.jpg',\n",
       " 'cat.321.jpg',\n",
       " 'cat.322.jpg',\n",
       " 'cat.323.jpg',\n",
       " 'cat.324.jpg',\n",
       " 'cat.325.jpg',\n",
       " 'cat.326.jpg',\n",
       " 'cat.327.jpg',\n",
       " 'cat.328.jpg',\n",
       " 'cat.329.jpg',\n",
       " 'cat.33.jpg',\n",
       " 'cat.330.jpg',\n",
       " 'cat.331.jpg',\n",
       " 'cat.332.jpg',\n",
       " 'cat.333.jpg',\n",
       " 'cat.334.jpg',\n",
       " 'cat.335.jpg',\n",
       " 'cat.336.jpg',\n",
       " 'cat.337.jpg',\n",
       " 'cat.338.jpg',\n",
       " 'cat.339.jpg',\n",
       " 'cat.34.jpg',\n",
       " 'cat.340.jpg',\n",
       " 'cat.341.jpg',\n",
       " 'cat.342.jpg',\n",
       " 'cat.343.jpg',\n",
       " 'cat.344.jpg',\n",
       " 'cat.345.jpg',\n",
       " 'cat.346.jpg',\n",
       " 'cat.347.jpg',\n",
       " 'cat.348.jpg',\n",
       " 'cat.349.jpg',\n",
       " 'cat.35.jpg',\n",
       " 'cat.350.jpg',\n",
       " 'cat.351.jpg',\n",
       " 'cat.352.jpg',\n",
       " 'cat.353.jpg',\n",
       " 'cat.354.jpg',\n",
       " 'cat.355.jpg',\n",
       " 'cat.356.jpg',\n",
       " 'cat.357.jpg',\n",
       " 'cat.358.jpg',\n",
       " 'cat.359.jpg',\n",
       " 'cat.36.jpg',\n",
       " 'cat.360.jpg',\n",
       " 'cat.361.jpg',\n",
       " 'cat.362.jpg',\n",
       " 'cat.363.jpg',\n",
       " 'cat.364.jpg',\n",
       " 'cat.365.jpg',\n",
       " 'cat.366.jpg',\n",
       " 'cat.367.jpg',\n",
       " 'cat.368.jpg',\n",
       " 'cat.369.jpg',\n",
       " 'cat.37.jpg',\n",
       " 'cat.370.jpg',\n",
       " 'cat.371.jpg',\n",
       " 'cat.372.jpg',\n",
       " 'cat.373.jpg',\n",
       " 'cat.374.jpg',\n",
       " 'cat.375.jpg',\n",
       " 'cat.376.jpg',\n",
       " 'cat.377.jpg',\n",
       " 'cat.378.jpg',\n",
       " 'cat.379.jpg',\n",
       " 'cat.38.jpg',\n",
       " 'cat.380.jpg',\n",
       " 'cat.381.jpg',\n",
       " 'cat.382.jpg',\n",
       " 'cat.383.jpg',\n",
       " 'cat.384.jpg',\n",
       " 'cat.385.jpg',\n",
       " 'cat.386.jpg',\n",
       " 'cat.387.jpg',\n",
       " 'cat.388.jpg',\n",
       " 'cat.389.jpg',\n",
       " 'cat.39.jpg',\n",
       " 'cat.390.jpg',\n",
       " 'cat.391.jpg',\n",
       " 'cat.392.jpg',\n",
       " 'cat.393.jpg',\n",
       " 'cat.394.jpg',\n",
       " 'cat.395.jpg',\n",
       " 'cat.396.jpg',\n",
       " 'cat.397.jpg',\n",
       " 'cat.398.jpg',\n",
       " 'cat.399.jpg',\n",
       " 'cat.4.jpg',\n",
       " 'cat.40.jpg',\n",
       " 'cat.400.jpg',\n",
       " 'cat.401.jpg',\n",
       " 'cat.402.jpg',\n",
       " 'cat.403.jpg',\n",
       " 'cat.404.jpg',\n",
       " 'cat.405.jpg',\n",
       " 'cat.406.jpg',\n",
       " 'cat.407.jpg',\n",
       " 'cat.408.jpg',\n",
       " 'cat.409.jpg',\n",
       " 'cat.41.jpg',\n",
       " 'cat.410.jpg',\n",
       " 'cat.411.jpg',\n",
       " 'cat.412.jpg',\n",
       " 'cat.413.jpg',\n",
       " 'cat.414.jpg',\n",
       " 'cat.415.jpg',\n",
       " 'cat.416.jpg',\n",
       " 'cat.417.jpg',\n",
       " 'cat.418.jpg',\n",
       " 'cat.419.jpg',\n",
       " 'cat.42.jpg',\n",
       " 'cat.420.jpg',\n",
       " 'cat.421.jpg',\n",
       " 'cat.422.jpg',\n",
       " 'cat.423.jpg',\n",
       " 'cat.424.jpg',\n",
       " 'cat.425.jpg',\n",
       " 'cat.426.jpg',\n",
       " 'cat.427.jpg',\n",
       " 'cat.428.jpg',\n",
       " 'cat.429.jpg',\n",
       " 'cat.43.jpg',\n",
       " 'cat.430.jpg',\n",
       " 'cat.431.jpg',\n",
       " 'cat.432.jpg',\n",
       " 'cat.433.jpg',\n",
       " 'cat.434.jpg',\n",
       " 'cat.435.jpg',\n",
       " 'cat.436.jpg',\n",
       " 'cat.437.jpg',\n",
       " 'cat.438.jpg',\n",
       " 'cat.439.jpg',\n",
       " 'cat.44.jpg',\n",
       " 'cat.440.jpg',\n",
       " 'cat.441.jpg',\n",
       " 'cat.442.jpg',\n",
       " 'cat.443.jpg',\n",
       " 'cat.444.jpg',\n",
       " 'cat.445.jpg',\n",
       " 'cat.446.jpg',\n",
       " 'cat.447.jpg',\n",
       " 'cat.448.jpg',\n",
       " 'cat.449.jpg',\n",
       " 'cat.45.jpg',\n",
       " 'cat.450.jpg',\n",
       " 'cat.451.jpg',\n",
       " 'cat.452.jpg',\n",
       " 'cat.453.jpg',\n",
       " 'cat.454.jpg',\n",
       " 'cat.455.jpg',\n",
       " 'cat.456.jpg',\n",
       " 'cat.457.jpg',\n",
       " 'cat.458.jpg',\n",
       " 'cat.459.jpg',\n",
       " 'cat.46.jpg',\n",
       " 'cat.460.jpg',\n",
       " 'cat.461.jpg',\n",
       " 'cat.462.jpg',\n",
       " 'cat.463.jpg',\n",
       " 'cat.464.jpg',\n",
       " 'cat.465.jpg',\n",
       " 'cat.466.jpg',\n",
       " 'cat.467.jpg',\n",
       " 'cat.468.jpg',\n",
       " 'cat.469.jpg',\n",
       " 'cat.47.jpg',\n",
       " 'cat.470.jpg',\n",
       " 'cat.471.jpg',\n",
       " 'cat.472.jpg',\n",
       " 'cat.473.jpg',\n",
       " 'cat.474.jpg',\n",
       " 'cat.475.jpg',\n",
       " 'cat.476.jpg',\n",
       " 'cat.477.jpg',\n",
       " 'cat.478.jpg',\n",
       " 'cat.479.jpg',\n",
       " 'cat.48.jpg',\n",
       " 'cat.480.jpg',\n",
       " 'cat.481.jpg',\n",
       " 'cat.482.jpg',\n",
       " 'cat.483.jpg',\n",
       " 'cat.484.jpg',\n",
       " 'cat.485.jpg',\n",
       " 'cat.486.jpg',\n",
       " 'cat.487.jpg',\n",
       " 'cat.488.jpg',\n",
       " 'cat.489.jpg',\n",
       " 'cat.49.jpg',\n",
       " 'cat.490.jpg',\n",
       " 'cat.491.jpg',\n",
       " 'cat.492.jpg',\n",
       " 'cat.493.jpg',\n",
       " 'cat.494.jpg',\n",
       " 'cat.495.jpg',\n",
       " 'cat.496.jpg',\n",
       " 'cat.497.jpg',\n",
       " 'cat.498.jpg',\n",
       " 'cat.499.jpg',\n",
       " 'cat.5.jpg',\n",
       " 'cat.50.jpg',\n",
       " 'cat.500.jpg',\n",
       " 'cat.501.jpg',\n",
       " 'cat.502.jpg',\n",
       " 'cat.503.jpg',\n",
       " 'cat.504.jpg',\n",
       " 'cat.505.jpg',\n",
       " 'cat.506.jpg',\n",
       " 'cat.507.jpg',\n",
       " 'cat.508.jpg',\n",
       " 'cat.509.jpg',\n",
       " 'cat.51.jpg',\n",
       " 'cat.510.jpg',\n",
       " 'cat.511.jpg',\n",
       " 'cat.512.jpg',\n",
       " 'cat.513.jpg',\n",
       " 'cat.514.jpg',\n",
       " 'cat.515.jpg',\n",
       " 'cat.516.jpg',\n",
       " 'cat.517.jpg',\n",
       " 'cat.518.jpg',\n",
       " 'cat.519.jpg',\n",
       " 'cat.52.jpg',\n",
       " 'cat.520.jpg',\n",
       " 'cat.521.jpg',\n",
       " 'cat.522.jpg',\n",
       " 'cat.523.jpg',\n",
       " 'cat.524.jpg',\n",
       " 'cat.525.jpg',\n",
       " 'cat.526.jpg',\n",
       " 'cat.527.jpg',\n",
       " 'cat.528.jpg',\n",
       " 'cat.529.jpg',\n",
       " 'cat.53.jpg',\n",
       " 'cat.530.jpg',\n",
       " 'cat.531.jpg',\n",
       " 'cat.532.jpg',\n",
       " 'cat.533.jpg',\n",
       " 'cat.534.jpg',\n",
       " 'cat.535.jpg',\n",
       " 'cat.536.jpg',\n",
       " 'cat.537.jpg',\n",
       " 'cat.538.jpg',\n",
       " 'cat.539.jpg',\n",
       " 'cat.54.jpg',\n",
       " 'cat.540.jpg',\n",
       " 'cat.541.jpg',\n",
       " 'cat.542.jpg',\n",
       " 'cat.543.jpg',\n",
       " 'cat.544.jpg',\n",
       " 'cat.545.jpg',\n",
       " 'cat.546.jpg',\n",
       " 'cat.547.jpg',\n",
       " 'cat.548.jpg',\n",
       " ...]"
      ]
     },
     "execution_count": 32,
     "metadata": {},
     "output_type": "execute_result"
    }
   ],
   "source": [
    "os.listdir(\"./cats_vs_dogs_small\")"
   ]
  },
  {
   "cell_type": "code",
   "execution_count": 33,
   "id": "555ecd56",
   "metadata": {},
   "outputs": [],
   "source": [
    "from sklearn.model_selection import train_test_split"
   ]
  },
  {
   "cell_type": "code",
   "execution_count": 34,
   "id": "bd7a91ab",
   "metadata": {},
   "outputs": [],
   "source": [
    "X_train, X_test, y_train, y_test = train_test_split(X, y, stratify=y, test_size=500, random_state=50)"
   ]
  },
  {
   "cell_type": "code",
   "execution_count": 35,
   "id": "c4175556",
   "metadata": {},
   "outputs": [
    {
     "data": {
      "text/plain": [
       "(2500, 64, 64, 3)"
      ]
     },
     "execution_count": 35,
     "metadata": {},
     "output_type": "execute_result"
    }
   ],
   "source": [
    "X_train.shape"
   ]
  },
  {
   "cell_type": "code",
   "execution_count": 36,
   "id": "81cae886",
   "metadata": {},
   "outputs": [],
   "source": [
    "winSize = (64, 64)  # size of fashion-mnist image is 28x28\n",
    "blockSize = (16, 16)\n",
    "blockStride = (8, 8)\n",
    "cellSize = (8, 8)\n",
    "\n",
    "nbins = 9\n",
    "derivAperture = 1\n",
    "winSigma = -1.\n",
    "histogramNormType = 0\n",
    "L2HysThreshold = 0.2\n",
    "gammaCorrection = True\n",
    "nlevels = 64\n",
    "signedGradient = False\n",
    "\n",
    "hog = cv.HOGDescriptor(winSize, blockSize, blockStride, cellSize, nbins,\n",
    "                      derivAperture, winSigma, histogramNormType, L2HysThreshold,\n",
    "                      gammaCorrection, nlevels, signedGradient)"
   ]
  },
  {
   "cell_type": "code",
   "execution_count": 37,
   "id": "a91f45db",
   "metadata": {},
   "outputs": [],
   "source": [
    "from sklearn.preprocessing import MinMaxScaler"
   ]
  },
  {
   "cell_type": "code",
   "execution_count": 38,
   "id": "12e87480",
   "metadata": {},
   "outputs": [
    {
     "data": {
      "image/png": "[encoded data removed]",
      "text/plain": [
       "<Figure size 640x480 with 1 Axes>"
      ]
     },
     "metadata": {},
     "output_type": "display_data"
    }
   ],
   "source": [
    "# Feature transformed on the train data\n",
    "X_train_hog = [hog.compute(x) for x in X_train]\n",
    "x_train_hog = np.array(X_train_hog)\n",
    "scaler = MinMaxScaler()\n",
    "X_train_hog = scaler.fit_transform(X_train_hog)\n",
    "\n",
    "#select k and plot error bar\n",
    "k_list = np.arange(1,21)\n",
    "\n",
    "mean_acc = []\n",
    "std_acc = []\n",
    "\n",
    "for k in k_list:\n",
    "    knn = KNeighborsClassifier(n_neighbors=k, n_jobs = -1)\n",
    "    scores = cross_val_score(knn, X_train_hog, y_train)\n",
    "    mean_acc.append(scores.mean())\n",
    "    std_acc.append(scores.std())\n",
    "    \n",
    "plt.errorbar(k_list, mean_acc,std_acc, marker = \"s\", mec = \"g\", mfc = \"r\")\n",
    "plt.xlabel(\"Number of nearest neighbors\")\n",
    "plt.ylabel(\"CV accuracy\")\n",
    "plt.show()"
   ]
  },
  {
   "cell_type": "code",
   "execution_count": 39,
   "id": "2505a0b2",
   "metadata": {},
   "outputs": [
    {
     "name": "stdout",
     "output_type": "stream",
     "text": [
      "The execution time of training and prediction:0.100s.\n"
     ]
    }
   ],
   "source": [
    "# transform X_test and scale it\n",
    "X_test_hog = [hog.compute(x) for x in X_test]\n",
    "X_test_hog = np.array(X_test_hog)\n",
    "X_test_hog = scaler.transform(X_test_hog)\n",
    "\n",
    "k_opt = k_list[np.argmax(mean_acc)]\n",
    "\n",
    "start = time.time()\n",
    "# retrain the knn with all the train data\n",
    "knn = KNeighborsClassifier(n_neighbors=k_opt, n_jobs=-1)\n",
    "knn.fit(X_train_hog, y_train)\n",
    "pred = knn.predict(X_test_hog)\n",
    "print(f\"The execution time of training and prediction:{(time.time() - start):.3f}s.\")"
   ]
  },
  {
   "cell_type": "code",
   "execution_count": 40,
   "id": "09859015",
   "metadata": {},
   "outputs": [
    {
     "name": "stdout",
     "output_type": "stream",
     "text": [
      "              precision    recall  f1-score   support\n",
      "\n",
      "         cat       0.66      0.37      0.47       250\n",
      "         dog       0.56      0.81      0.66       250\n",
      "\n",
      "    accuracy                           0.59       500\n",
      "   macro avg       0.61      0.59      0.57       500\n",
      "weighted avg       0.61      0.59      0.57       500\n",
      "\n"
     ]
    }
   ],
   "source": [
    "print(classification_report(y_test, pred, target_names= knn.classes_))"
   ]
  },
  {
   "cell_type": "code",
   "execution_count": 41,
   "id": "1cd14ebd",
   "metadata": {},
   "outputs": [
    {
     "data": {
      "image/png": "[encoded data removed]",
      "text/plain": [
       "<Figure size 640x480 with 2 Axes>"
      ]
     },
     "metadata": {},
     "output_type": "display_data"
    }
   ],
   "source": [
    "conf_mat = confusion_matrix(y_test, pred)\n",
    "conf_mat_display = ConfusionMatrixDisplay(confusion_matrix=conf_mat, display_labels=knn.classes_)\n",
    "\n",
    "conf_mat_display.plot()\n",
    "plt.xticks(rotation = 45)\n",
    "plt.show()"
   ]
  },
  {
   "cell_type": "code",
   "execution_count": 42,
   "id": "044b4529",
   "metadata": {},
   "outputs": [
    {
     "data": {
      "text/plain": [
       "array(['cat', 'dog'], dtype='<U3')"
      ]
     },
     "execution_count": 42,
     "metadata": {},
     "output_type": "execute_result"
    }
   ],
   "source": [
    "knn.classes_"
   ]
  },
  {
   "cell_type": "code",
   "execution_count": null,
   "id": "d0f5e218",
   "metadata": {},
   "outputs": [],
   "source": []
  }
 ],
 "metadata": {
  "kernelspec": {
   "display_name": "Python 3 (ipykernel)",
   "language": "python",
   "name": "python3"
  },
  "language_info": {
   "codemirror_mode": {
    "name": "ipython",
    "version": 3
   },
   "file_extension": ".py",
   "mimetype": "text/x-python",
   "name": "python",
   "nbconvert_exporter": "python",
   "pygments_lexer": "ipython3",
   "version": "3.11.4"
  }
 },
 "nbformat": 4,
 "nbformat_minor": 5
}

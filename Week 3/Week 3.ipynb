{
 "cells": [
  {
   "cell_type": "markdown",
   "id": "3e04de37",
   "metadata": {},
   "source": [
    "# Learning outcomes\n",
    "1. Load, display and save images\n",
    "2. Load, show, and save videos\n",
    "3. Resize images"
   ]
  },
  {
   "cell_type": "markdown",
   "id": "fb65b33e",
   "metadata": {},
   "source": [
    "## Why OpenCV?\n",
    "- Compatible in multiple MAJOR OS, like Windows, Linux and MACOS, can be written in different languages: C++, Python and Java.\n",
    "- Interoperable with Numpy modules, thereby faster computation of image array\n",
    "- Large community support, alot of resources (articles and stackoverflow posts)."
   ]
  },
  {
   "cell_type": "markdown",
   "id": "a5b0892d",
   "metadata": {},
   "source": [
    "## Image formats\n",
    "- JPEG (.jpg，.jpeg，.jfif)\n",
    "    - photos taken from camera\n",
    "- PNG (.png.)\n",
    "    - website,larger file size compare to JPEG.\n",
    "- tiff (.tif)\n",
    "    - high quality printing, large file size.\n",
    "- bmp (.bmp)\n",
    "    - multiple uses, large file size.\n",
    "- GIF (.gif)(openCV can't deal with this format)\n",
    "    - animations, shallow color depth.\n",
    "- webp (.webp)\n",
    "    - smaller file size compared to JPEG and PNG, IE 11 not supported."
   ]
  },
  {
   "cell_type": "markdown",
   "id": "a9d6276b",
   "metadata": {},
   "source": [
    "## Setup"
   ]
  },
  {
   "cell_type": "code",
   "execution_count": 1,
   "id": "40077075",
   "metadata": {},
   "outputs": [],
   "source": [
    "import sys\n",
    "# at least Python 3.7\n",
    "assert sys.version_info >= (3,7)\n",
    "\n",
    "import numpy as np\n",
    "import cv2 as cv"
   ]
  },
  {
   "cell_type": "code",
   "execution_count": 2,
   "id": "4d2790f6",
   "metadata": {},
   "outputs": [
    {
     "name": "stdout",
     "output_type": "stream",
     "text": [
      "4.8.0\n"
     ]
    }
   ],
   "source": [
    "#check OpenCV version\n",
    "print(cv.__version__)"
   ]
  },
  {
   "cell_type": "markdown",
   "id": "f881ec07",
   "metadata": {},
   "source": [
    "## Load and show images"
   ]
  },
  {
   "cell_type": "code",
   "execution_count": 3,
   "id": "11807693",
   "metadata": {},
   "outputs": [],
   "source": [
    "img = cv.imread(\"images/lena.jfif\")\n",
    "#second argument : 1 (default), 0 (grayscale), -1(cv.IMREAD_UNCHANGED)\n",
    "grayscale = cv.imread(\"images/lena.jfif\", 0)\n",
    "\n",
    "cv.imshow(\"lena_color\", img)\n",
    "cv.imshow(\"lena_grayscale\", grayscale)\n",
    "cv.waitKey(0)   #key binding function: wait for user response\n",
    "cv.destroyAllWindows()"
   ]
  },
  {
   "cell_type": "code",
   "execution_count": 4,
   "id": "b47cb1e9",
   "metadata": {},
   "outputs": [],
   "source": [
    "def show_img(window_name, img):\n",
    "    \"\"\"2 arguments: window name and imgae\"\"\"\n",
    "    cv.imshow(window_name, img)\n",
    "    cv.waitKey(0)   #key binding function: wait for user response\n",
    "    cv.destroyAllWindows()"
   ]
  },
  {
   "cell_type": "code",
   "execution_count": 5,
   "id": "cda27cda",
   "metadata": {},
   "outputs": [],
   "source": [
    "#PNG\n",
    "img = cv.imread(\"images/lena.png\")\n",
    "\n",
    "show_img(\"lena\", img)"
   ]
  },
  {
   "cell_type": "code",
   "execution_count": 6,
   "id": "b65116f5",
   "metadata": {},
   "outputs": [
    {
     "name": "stdout",
     "output_type": "stream",
     "text": [
      "shape of jpeg image:(225, 225, 3)\n",
      "shape of png image:(225, 225, 4)\n"
     ]
    }
   ],
   "source": [
    "#difference between jpeg and png\n",
    "img_jpeg = cv.imread(\"images/lena.jpg\", -1)\n",
    "img_png = cv.imread(\"images/lena.png\", -1)\n",
    "\n",
    "print (f\"shape of jpeg image:{img_jpeg.shape}\")\n",
    "print (f\"shape of png image:{img_png.shape}\")\n"
   ]
  },
  {
   "cell_type": "markdown",
   "id": "0ad41479",
   "metadata": {},
   "source": [
    "## GIF\n",
    "import new module"
   ]
  },
  {
   "cell_type": "code",
   "execution_count": 7,
   "id": "add4d867",
   "metadata": {},
   "outputs": [
    {
     "name": "stdout",
     "output_type": "stream",
     "text": [
      "Requirement already satisfied: imageio in c:\\users\\celin\\appdata\\local\\programs\\python\\python311\\lib\\site-packages (2.31.1)\n",
      "Requirement already satisfied: numpy in c:\\users\\celin\\appdata\\local\\programs\\python\\python311\\lib\\site-packages (from imageio) (1.25.0)\n",
      "Requirement already satisfied: pillow>=8.3.2 in c:\\users\\celin\\appdata\\local\\programs\\python\\python311\\lib\\site-packages (from imageio) (10.0.0)\n"
     ]
    },
    {
     "name": "stderr",
     "output_type": "stream",
     "text": [
      "\n",
      "[notice] A new release of pip is available: 23.1.2 -> 23.2\n",
      "[notice] To update, run: C:\\Users\\celin\\AppData\\Local\\Programs\\Python\\Python311\\python.exe -m pip install --upgrade pip\n"
     ]
    }
   ],
   "source": [
    "!pip install imageio"
   ]
  },
  {
   "cell_type": "code",
   "execution_count": 8,
   "id": "303acce4",
   "metadata": {},
   "outputs": [],
   "source": [
    "import imageio"
   ]
  },
  {
   "cell_type": "code",
   "execution_count": 9,
   "id": "60048b66",
   "metadata": {},
   "outputs": [],
   "source": [
    "#gif\n",
    "GIF = imageio.mimread(\"images/rotating_earth_large.gif\")\n",
    "# openCV import the image as BGR\n",
    "# change to BGR from RGB\n",
    "imgs = [cv.cvtColor(img, cv.COLOR_RGB2BGR)for img in GIF]\n",
    "\n",
    "for img in imgs:\n",
    "    cv.imshow(\"GIF\", img)\n",
    "    cv.waitKey(200)    #wait for 2 second, if no user input, it will just skip\n",
    "    \n",
    "cv.destroyAllWindows()"
   ]
  },
  {
   "cell_type": "markdown",
   "id": "a3fae8ad",
   "metadata": {},
   "source": [
    "## Save Images\n",
    "```\n",
    "cv.imwrite(filepath, img)\n",
    "```"
   ]
  },
  {
   "cell_type": "code",
   "execution_count": 10,
   "id": "0feba233",
   "metadata": {},
   "outputs": [],
   "source": [
    "# a more formalized approach\n",
    "img = cv.imread(cv.samples.findFile(\"images/lena.jfif\"))\n",
    "\n",
    "if img is None:\n",
    "    sys.exit(\"Not a valid filepath\")\n",
    "    \n",
    "cv.imshow(\"img\", img)\n",
    "k = cv.waitKey(0) & 0xFF\n",
    "if k == ord('s'):  #press 's' button\n",
    "    cv.imwrite(\"lena_save.jpg\", img)\n",
    "\n",
    "cv.destroyAllWindows()"
   ]
  },
  {
   "cell_type": "markdown",
   "id": "277579b0",
   "metadata": {},
   "source": [
    "## Same operations on videos\n",
    "Load and show videos"
   ]
  },
  {
   "cell_type": "code",
   "execution_count": 11,
   "id": "1f8e0da2",
   "metadata": {},
   "outputs": [],
   "source": [
    "cap = cv.VideoCapture(\"videos/img_pexels.mp4\")\n",
    "\n",
    "if not cap.isOpened():\n",
    "    sys.exit(\"No video file found\")\n",
    "cv.namedWindow(\"frame\", cv.WINDOW_NORMAL)    \n",
    "while True:\n",
    "    ret, frame = cap.read()\n",
    "    \n",
    "    if not ret:\n",
    "        print(\"No frame received\")\n",
    "        break\n",
    "        \n",
    "    cv.imshow(\"frame\", frame)\n",
    "    k = cv.waitKey(1) & 0xFF\n",
    "    if k == 27:  # esc key\n",
    "        break\n",
    "        \n",
    "cap.release()\n",
    "cv.destroyAllWindows()"
   ]
  },
  {
   "cell_type": "code",
   "execution_count": 12,
   "id": "e98f493a",
   "metadata": {},
   "outputs": [],
   "source": [
    "## webcam\n",
    "\n",
    "cap = cv.VideoCapture(0)  #setting for webcam\n",
    "\n",
    "if not cap.isOpened():\n",
    "    sys.exit(\"No webcam file found\")\n",
    "    \n",
    "\n",
    "#save video object\n",
    "#arguments : filepath, fourcc, fps, width, height\n",
    "#fourcc = IP/algorithm for compression and decompression of the video\n",
    "fourcc = cv.VideoWriter_fourcc(\"M\", \"J\", \"P\", \"G\")\n",
    "fps = 15\n",
    "w, h = int(cap.get(3)), int(cap.get(4))\n",
    "out = cv.VideoWriter(\"videos/out.avi\", fourcc, fps, (w, h))\n",
    "\n",
    "while True:\n",
    "    ret, frame = cap.read()\n",
    "    \n",
    "    if not ret:\n",
    "        print(\"No frame received\")\n",
    "        break\n",
    "    out.write(frame)    \n",
    "    cv.imshow(\"frame\", frame)\n",
    "    k = cv.waitKey(1) & 0xFF\n",
    "    if k == 27:  # esc key\n",
    "        break\n",
    "        \n",
    "cap.release()\n",
    "out.release()\n",
    "cv.destroyAllWindows()"
   ]
  },
  {
   "cell_type": "code",
   "execution_count": 13,
   "id": "eb8f3fd4",
   "metadata": {},
   "outputs": [],
   "source": [
    "import time"
   ]
  },
  {
   "cell_type": "code",
   "execution_count": 14,
   "id": "63a478be",
   "metadata": {},
   "outputs": [],
   "source": [
    "cap = cv.VideoCapture(\"videos/img_pexels.mp4\")\n",
    "\n",
    "if not cap.isOpened():\n",
    "    sys.exit(\"No video file found\")\n",
    "cv.namedWindow(\"frame\", cv.WINDOW_NORMAL)  \n",
    "start = time.time()\n",
    "while True:\n",
    "    ret, frame = cap.read()\n",
    "    \n",
    "    if not ret:\n",
    "        print(\"No frame received\")\n",
    "        break\n",
    "        \n",
    "    cv.imshow(\"frame\", frame)\n",
    "    k = cv.waitKey(1) & 0xFF\n",
    "    if k == 27:  # esc key\n",
    "        break\n",
    "end = time.time()        \n",
    "#cap.release()\n",
    "cv.destroyAllWindows()"
   ]
  },
  {
   "cell_type": "code",
   "execution_count": 15,
   "id": "f38a4dfc",
   "metadata": {},
   "outputs": [
    {
     "name": "stdout",
     "output_type": "stream",
     "text": [
      "The actual frame rate from the file: 60.0\n",
      "The fps if stream using OpenCV: 680.7149880585811\n"
     ]
    }
   ],
   "source": [
    "print(f\"The actual frame rate from the file: {cap.get(5)}\")\n",
    "n_frames = cap.get(7)\n",
    "print(f\"The fps if stream using OpenCV: {n_frames/ (end-start)}\") #total frame / the time that I set"
   ]
  },
  {
   "cell_type": "markdown",
   "id": "860f5d02",
   "metadata": {},
   "source": [
    "## Image resizing\n",
    "1. set arbitray dimension (w, h)\n",
    "2. scale factor"
   ]
  },
  {
   "cell_type": "code",
   "execution_count": 16,
   "id": "450cbf37",
   "metadata": {},
   "outputs": [],
   "source": [
    "# 1 method\n",
    "img = cv.imread(\"images/soccer.jpg\")\n",
    "\n",
    "new_height = 450\n",
    "new_width = 300\n",
    "\n",
    "#third argument: fx, 4th: fy, 5th: interpolation methods(default:bilinear)\n",
    "img_resize = cv.resize(img, (new_width, new_height))\n",
    "\n",
    "cv.imshow(\"original\", img)\n",
    "show_img(\"resize\", img_resize)"
   ]
  },
  {
   "cell_type": "code",
   "execution_count": 17,
   "id": "fb1bbe62",
   "metadata": {},
   "outputs": [
    {
     "data": {
      "text/plain": [
       "(1200, 800, 3)"
      ]
     },
     "execution_count": 17,
     "metadata": {},
     "output_type": "execute_result"
    }
   ],
   "source": [
    "img.shape"
   ]
  },
  {
   "cell_type": "code",
   "execution_count": 18,
   "id": "36756da8",
   "metadata": {},
   "outputs": [],
   "source": [
    "# 2 method: scale factor\n",
    "img = cv.imread(\"images/lena.jfif\")\n",
    "    \n",
    "img_resize = cv.resize(img, None, fx = 1.5, fy=1.5)\n",
    "\n",
    "cv.imshow(\"original\", img)\n",
    "show_img(\"resize\", img_resize)"
   ]
  },
  {
   "cell_type": "markdown",
   "id": "8a6b6ce0",
   "metadata": {},
   "source": [
    "## Exercise 1\n",
    "1. Load and display the image 'dog.jfif'. Save the image in png format"
   ]
  },
  {
   "cell_type": "code",
   "execution_count": 19,
   "id": "d7694446",
   "metadata": {},
   "outputs": [],
   "source": [
    "img = cv.imread(cv.samples.findFile(\"images/dog.jfif\"))\n",
    "\n",
    "if img is None:\n",
    "    sys.exit(\"Not a valid filepath\")\n",
    "    \n",
    "cv.imshow(\"img\", img)\n",
    "k = cv.waitKey(0) &0xFF\n",
    "if k == ord('s'): \n",
    "    cv.imwrite(\"dog.png\", img)\n",
    "    \n",
    "cv.destroyAllWindows()"
   ]
  },
  {
   "cell_type": "markdown",
   "id": "d6ceac47",
   "metadata": {},
   "source": [
    "## Exercise 2\n",
    "2. Suggest 2 ways and write codes to display 2 images simultaneously. You can use any image snapped from your handphone, downloaded from internet or images from weekly materials on MS teams. The 2 images are original color image and its corresponding grayscale image."
   ]
  },
  {
   "cell_type": "code",
   "execution_count": 20,
   "id": "bf45bb45",
   "metadata": {},
   "outputs": [],
   "source": [
    "# 1st method : cv.imshow() called twice\n",
    "img = cv.imread(\"images/Shxtou.jpg\")\n",
    "#grayscale = cv.imread(\"images/Shxtou.jpg\", 0)\n",
    "grayscale = cv.cvtColor(img, cv.COLOR_BGR2GRAY)\n",
    "\n",
    "cv.imshow(\"Shxtou_color\", img)\n",
    "cv.imshow(\"Shxtou_grayscale\", grayscale)\n",
    "cv.waitKey(0)\n",
    "cv.destroyAllWindows()"
   ]
  },
  {
   "cell_type": "code",
   "execution_count": 21,
   "id": "eaa581b7",
   "metadata": {},
   "outputs": [],
   "source": [
    "# 2nd Method :  import external module: matplotlib\n",
    "import matplotlib.pyplot as plt"
   ]
  },
  {
   "cell_type": "code",
   "execution_count": 22,
   "id": "43e6e378",
   "metadata": {},
   "outputs": [
    {
     "data": {
      "image/png": "[encoded data removed]",
      "text/plain": [
       "<Figure size 640x480 with 2 Axes>"
      ]
     },
     "metadata": {},
     "output_type": "display_data"
    }
   ],
   "source": [
    "img_rgb = cv.cvtColor(img, cv.COLOR_BGR2RGB)\n",
    "\n",
    "plt.subplot(121) # 1: 1 row, 2: 2 colomn, 1: work on 1st figure\n",
    "plt.imshow(img_rgb)\n",
    "plt.xticks([]), plt.yticks([])\n",
    "plt.subplot(122)\n",
    "plt.imshow(grayscale, cmap = plt.cm.gray)\n",
    "plt.xticks([]), plt.yticks([])\n",
    "plt.suptitle(\"color vs grayscale\")\n",
    "plt.show()\n"
   ]
  },
  {
   "cell_type": "code",
   "execution_count": 23,
   "id": "97fd8ad6",
   "metadata": {},
   "outputs": [],
   "source": [
    "# 3rd Method : concatenate (join the array)\n",
    "gray = cv.cvtColor(grayscale, cv.COLOR_GRAY2BGR)\n",
    "\n",
    "#img_combined = np.hstack((img, gray))  #hstack: join horizontally\n",
    "img_combined = np.concatenate((img, gray), axis=1)\n",
    "show_img(\"joined\", img_combined)"
   ]
  },
  {
   "cell_type": "markdown",
   "id": "47cd69fe",
   "metadata": {},
   "source": [
    "## Exercise 3\n",
    "3. Write codes that performs the following:\n",
    "    - Load the video\"img_pexels.mp4\" into the Python environment, resize it and display the videos with smaller frames(The frames can be any size, as long as it is smaller). You can specify an arbitrary frame rate.\n",
    "    - Save it as an separate files: \"smaller_img_pexels.avi\" or \"smaller_img_pexels.mp4\""
   ]
  },
  {
   "cell_type": "code",
   "execution_count": 27,
   "id": "02dbff69",
   "metadata": {},
   "outputs": [
    {
     "name": "stdout",
     "output_type": "stream",
     "text": [
      "No frame received\n"
     ]
    }
   ],
   "source": [
    "video = cv.VideoCapture(\"videos/img_pexels.mp4\")\n",
    "\n",
    "if not video.isOpened():\n",
    "    sys.exit(\"No video file found\")\n",
    "cv.namedWindow(\"Original Frame\", cv.WINDOW_NORMAL)\n",
    "cv.namedWindow(\"Smaller Frame\", cv.WINDOW_NORMAL)  \n",
    "\n",
    "# get the original frame\n",
    "w, h = int(video.get(3)), int(video.get(4))\n",
    "\n",
    "# Define a smaller frame\n",
    "new_w = int(w / 2)\n",
    "new_h = int(h / 4)\n",
    "\n",
    "# frame rate\n",
    "rate = 1\n",
    "\n",
    "# save video object\n",
    "fourcc = cv.VideoWriter_fourcc(*'mp4v')\n",
    "fps = 15\n",
    "out=cv.VideoWriter(\"videos/smaller_img_pexels.mp4\", fourcc, fps, (new_w, new_h))\n",
    "while True:\n",
    "    ret, frame  = video.read()\n",
    "    \n",
    "    if not ret:\n",
    "        print(\"No frame received\")\n",
    "        break\n",
    "\n",
    "    # Resize the frame to a smaller size\n",
    "    small_frame = cv.resize(frame, (new_w, new_h))\n",
    "    \n",
    "    out.write(small_frame)\n",
    "    \n",
    "    cv.imshow(\"Original Frame\", frame)\n",
    "    cv.imshow(\"Smaller Frame\", small_frame)\n",
    "    k = cv.waitKey(rate) & 0xFF\n",
    "    if k == 27:\n",
    "        break\n",
    "        \n",
    "cap.release()\n",
    "out.release()\n",
    "cv.destroyAllWindows()\n"
   ]
  },
  {
   "cell_type": "markdown",
   "id": "9d3fa2f7",
   "metadata": {},
   "source": [
    "## Exercise 4\n",
    "4. Enlarge the image\"dog.jfif\" by using different techniques:\n",
    "    1) Linear interpolation\n",
    "    2) Cubic interpolation\n",
    "    3) nearest neighbour interpolation\n",
    "Comment on the upscale of all the outputs"
   ]
  },
  {
   "cell_type": "code",
   "execution_count": 30,
   "id": "00ecb81e",
   "metadata": {},
   "outputs": [],
   "source": [
    "# 1st method: Linear interpolation\n",
    "image = cv.imread(\"images/dog.jfif\")\n",
    "\n",
    "new_h = image.shape[0] * 2  #[0] represent the height of image\n",
    "new_w = image.shape[1] * 2  #[1] represent the width of the image\n",
    "\n",
    "#Perform linear interpolation to enlarge the image\n",
    "#consider the values of the nearest neighbour pixels to estimate the value of a new pixel\n",
    "# cv.INTER_LINEAR indicating the use of linear interpolation for the resizing process\n",
    "linear = cv.resize(image, (new_w, new_h), interpolation = cv.INTER_LINEAR)\n",
    "\n",
    "cv.imshow(\"Original Image\", image)\n",
    "cv.imshow(\"Linear Interpolation Enlarge Image\", linear)\n",
    "\n",
    "cv.waitKey(0)\n",
    "cv.destroyAllWindows()"
   ]
  },
  {
   "cell_type": "code",
   "execution_count": 29,
   "id": "830e1f23",
   "metadata": {},
   "outputs": [],
   "source": [
    "# 2nd Method: Cubic Interpolation\n",
    "image1 = cv.imread(\"images/dog.jfif\")\n",
    "\n",
    "new_h = image1.shape[0] * 2  #[0] represent the height of image\n",
    "new_w = image1.shape[1] * 2  #[1] represent the width of the image\n",
    "\n",
    "#Perofmr Cubic interpolation to enlarge the image\n",
    "# selects a alrger neighbourhood of pixels to estimate the value of a new pixel\n",
    "# cv.INTER_CUBIC indicating the use of CUBIC interpolation for the resizing process\n",
    "cubic = cv.resize(image1, (new_w, new_h), interpolation = cv.INTER_CUBIC)\n",
    "\n",
    "cv.imshow(\"Original Image\", image1)\n",
    "cv.imshow(\"Linear Interpolation Enlarge Image\", cubic)\n",
    "\n",
    "cv.waitKey(0)\n",
    "cv.destroyAllWindows()"
   ]
  },
  {
   "cell_type": "code",
   "execution_count": 31,
   "id": "c66610a1",
   "metadata": {},
   "outputs": [],
   "source": [
    "#3rd Method: Nearest Neighbour Interpolation\n",
    "image2 = cv.imread(\"images/dog.jfif\")\n",
    "\n",
    "new_h = image2.shape[0] * 2  #[0] represent the height of image\n",
    "new_w = image2.shape[1] * 2  #[1] represent the width of the image\n",
    "\n",
    "#Perofmr nearest neighbour interpolation to enlarge the image\n",
    "# selects the value of the nearest pixel in the original image and assigns it to the corresponding pixel\n",
    "# cv.INTER_NEAREST indicating the use of linear interpolation for the resizing process\n",
    "nearest = cv.resize(image2, (new_w, new_h), interpolation = cv.INTER_NEAREST)\n",
    "\n",
    "cv.imshow(\"Original Image\", image2)\n",
    "cv.imshow(\"Linear Interpolation Enlarge Image\", nearest)\n",
    "\n",
    "cv.waitKey(0)\n",
    "cv.destroyAllWindows()"
   ]
  },
  {
   "cell_type": "code",
   "execution_count": null,
   "id": "6362acb4",
   "metadata": {},
   "outputs": [],
   "source": []
  }
 ],
 "metadata": {
  "kernelspec": {
   "display_name": "Python 3 (ipykernel)",
   "language": "python",
   "name": "python3"
  },
  "language_info": {
   "codemirror_mode": {
    "name": "ipython",
    "version": 3
   },
   "file_extension": ".py",
   "mimetype": "text/x-python",
   "name": "python",
   "nbconvert_exporter": "python",
   "pygments_lexer": "ipython3",
   "version": "3.11.4"
  }
 },
 "nbformat": 4,
 "nbformat_minor": 5
}
